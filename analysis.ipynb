{
 "cells": [
  {
   "cell_type": "markdown",
   "id": "9238c040",
   "metadata": {},
   "source": [
    "## Analytics: Exploratory Data Analysis\n",
    "\n",
    "This notebook contains the analysis of the IBM HR dataset sourced from: pavansubhash on Kaggle.com to answer key business questions. We will use both Python *(with Pandas)* and SQL to perform the analysis.\n",
    "\n",
    " **Assumptions**: The hr_database.db file has been created using the setup_database.py script.\n",
    "\n",
    "**Setup**: Connecting to the Database\n",
    "First, let's establish a connection to our SQLite database."
   ]
  },
  {
   "cell_type": "code",
   "execution_count": null,
   "id": "32532cee",
   "metadata": {},
   "outputs": [],
   "source": [
    "import pandas as pd\n",
    "import sqlite3\n",
    "\n",
    "# Path to your SQLite database\n",
    "db_path = 'hr_database.db'\n",
    "\n",
    "# Create a connection\n",
    "conn = sqlite3.connect(db_path)\n",
    "\n",
    "# Function to run SQL queries and return a DataFrame\n",
    "def sql_query(query):\n",
    "    return pd.read_sql_query(query, conn)\n",
    "    \n"
   ]
  },
  {
   "cell_type": "markdown",
   "id": "2a3cc4de",
   "metadata": {
    "vscode": {
     "languageId": "plaintext"
    }
   },
   "source": [
    "### Q1: How many total employees are there?\n"
   ]
  },
  {
   "cell_type": "markdown",
   "id": "123ac26e",
   "metadata": {},
   "source": [
    "**Pandas Approach**\n",
    "We can load the entire table into a DataFrame and find its length.\n"
   ]
  },
  {
   "cell_type": "code",
   "execution_count": null,
   "id": "ac796c96",
   "metadata": {},
   "outputs": [],
   "source": [
    "df = pd.read_sql_table('employees', conn)\n",
    "total_employees = len(df)\n",
    "print(f\"Total number of employees: {total_employees}\")\n"
   ]
  },
  {
   "cell_type": "markdown",
   "id": "06c54a93",
   "metadata": {
    "vscode": {
     "languageId": "plaintext"
    }
   },
   "source": [
    "**Result**: Total number of employees: 1470\n"
   ]
  },
  {
   "cell_type": "markdown",
   "id": "c813a9d5",
   "metadata": {},
   "source": [
    "**SQL Approach**\n",
    "A simple COUNT(*) query will give us the answer.\n"
   ]
  },
  {
   "cell_type": "code",
   "execution_count": null,
   "id": "d8e1bad3",
   "metadata": {
    "vscode": {
     "languageId": "sql"
    }
   },
   "outputs": [],
   "source": [
    "SELECT COUNT(*) as total_employees FROM employees;\n"
   ]
  },
  {
   "cell_type": "code",
   "execution_count": null,
   "id": "e40244ba",
   "metadata": {},
   "outputs": [],
   "source": [
    "\n",
    "result = sql_query(\"SELECT COUNT(*) as total_employees FROM employees;\")\n",
    "print(result)\n"
   ]
  },
  {
   "cell_type": "markdown",
   "id": "68f7ea64",
   "metadata": {},
   "source": [
    "**Result**:\n",
    "| total_employees |\n",
    "|-----------------|\n",
    "| 1470            |\n"
   ]
  },
  {
   "cell_type": "markdown",
   "id": "3fb90827",
   "metadata": {},
   "source": [
    "\n",
    "\n",
    "### Q2: What is the employee count for each department?\n"
   ]
  },
  {
   "cell_type": "markdown",
   "id": "8f0c4642",
   "metadata": {},
   "source": [
    "**Pandas Approach**"
   ]
  },
  {
   "cell_type": "code",
   "execution_count": null,
   "id": "8b0b1098",
   "metadata": {},
   "outputs": [],
   "source": [
    "department_counts = df['Department'].value_counts().reset_index()\n",
    "department_counts.columns = ['Department', 'EmployeeCount']\n",
    "print(department_counts)"
   ]
  },
  {
   "cell_type": "markdown",
   "id": "47aedf2d",
   "metadata": {},
   "source": [
    "**SQL Approach**"
   ]
  },
  {
   "cell_type": "code",
   "execution_count": null,
   "id": "2a2eb5c8",
   "metadata": {
    "vscode": {
     "languageId": "sql"
    }
   },
   "outputs": [],
   "source": [
    "SELECT\n",
    "    Department,\n",
    "    COUNT(*) as EmployeeCount\n",
    "FROM\n",
    "    employees\n",
    "GROUP BY\n",
    "    Department\n",
    "ORDER BY\n",
    "    EmployeeCount DESC;"
   ]
  },
  {
   "cell_type": "code",
   "execution_count": null,
   "id": "1e19b852",
   "metadata": {},
   "outputs": [],
   "source": [
    "result = sql_query(\"\"\"\n",
    "    SELECT Department, COUNT(*) as EmployeeCount\n",
    "    FROM employees\n",
    "    GROUP BY Department\n",
    "    ORDER BY EmployeeCount DESC;\n",
    "\"\"\")\n",
    "print(result)"
   ]
  },
  {
   "cell_type": "markdown",
   "id": "661147c8",
   "metadata": {},
   "source": [
    "**Insight**: The Research & Development department is by far the largest, followed by Sales, and then Human Resources.\n"
   ]
  },
  {
   "cell_type": "markdown",
   "id": "6bf46e97",
   "metadata": {},
   "source": [
    "\n",
    "### Q3: What is the average monthly income by job role?\n"
   ]
  },
  {
   "cell_type": "markdown",
   "id": "ace79eb3",
   "metadata": {},
   "source": [
    "**Pandas Approach**"
   ]
  },
  {
   "cell_type": "code",
   "execution_count": null,
   "id": "6c6e37b8",
   "metadata": {},
   "outputs": [],
   "source": [
    "avg_income_by_role = df.groupby('JobRole')['MonthlyIncome'].mean().round(2).sort_values(ascending=False).reset_index()\n",
    "print(avg_income_by_role)\n"
   ]
  },
  {
   "cell_type": "markdown",
   "id": "8cb30000",
   "metadata": {},
   "source": [
    "**SQL Approach**"
   ]
  },
  {
   "cell_type": "code",
   "execution_count": null,
   "id": "0edb39ce",
   "metadata": {
    "vscode": {
     "languageId": "sql"
    }
   },
   "outputs": [],
   "source": [
    "SELECT\n",
    "    JobRole,\n",
    "    AVG(MonthlyIncome) as AverageMonthlyIncome\n",
    "FROM\n",
    "    employees\n",
    "GROUP BY\n",
    "    JobRole\n",
    "ORDER BY\n",
    "    AverageMonthlyIncome DESC;\n"
   ]
  },
  {
   "cell_type": "code",
   "execution_count": null,
   "id": "2a350b25",
   "metadata": {},
   "outputs": [],
   "source": [
    "\n",
    "result = sql_query(\"\"\"\n",
    "    SELECT JobRole, ROUND(AVG(MonthlyIncome), 2) as AverageMonthlyIncome\n",
    "    FROM employees\n",
    "    GROUP BY JobRole\n",
    "    ORDER BY AverageMonthlyIncome DESC;\n",
    "\"\"\")\n",
    "print(result)\n"
   ]
  },
  {
   "cell_type": "markdown",
   "id": "b6361017",
   "metadata": {},
   "source": [
    "\n",
    "\n",
    "**Insight**: Manager and Research Director roles have the highest average monthly incomes, while Research Scientist and Laboratory Technician are on the lower end"
   ]
  },
  {
   "cell_type": "markdown",
   "id": "220977b2",
   "metadata": {},
   "source": [
    "### Q4: Who are the top 5 employees by performance rating?\n",
    "\n",
    "**Note**: We need a unique identifier. We'll use the EmployeeID that was added during database setup.\n",
    "\n"
   ]
  },
  {
   "cell_type": "markdown",
   "id": "e125d2f7",
   "metadata": {},
   "source": [
    "**Pandas Approach**"
   ]
  },
  {
   "cell_type": "code",
   "execution_count": null,
   "id": "cd9b226a",
   "metadata": {},
   "outputs": [],
   "source": [
    "\n",
    "top_5_performers = df.sort_values(by='PerformanceRating', ascending=False).head(5)\n",
    "print(top_5_performers[['EmployeeID', 'JobRole', 'PerformanceRating']])\n"
   ]
  },
  {
   "cell_type": "markdown",
   "id": "1950e633",
   "metadata": {},
   "source": [
    "**SQL Approach**"
   ]
  },
  {
   "cell_type": "code",
   "execution_count": null,
   "id": "ae731211",
   "metadata": {
    "vscode": {
     "languageId": "sql"
    }
   },
   "outputs": [],
   "source": [
    "SELECT\n",
    "    EmployeeID,\n",
    "    JobRole,\n",
    "    PerformanceRating\n",
    "FROM\n",
    "    employees\n",
    "ORDER BY\n",
    "    PerformanceRating DESC\n",
    "LIMIT 5;\n"
   ]
  },
  {
   "cell_type": "code",
   "execution_count": null,
   "id": "70f28822",
   "metadata": {},
   "outputs": [],
   "source": [
    "\n",
    "result = sql_query(\"\"\"\n",
    "    SELECT EmployeeID, JobRole, PerformanceRating\n",
    "    FROM employees\n",
    "    ORDER BY PerformanceRating DESC\n",
    "    LIMIT 5;\n",
    "\"\"\")\n",
    "print(result)\n"
   ]
  },
  {
   "cell_type": "markdown",
   "id": "32253b3b",
   "metadata": {},
   "source": [
    "\n",
    "**Insight**: This allows us to quickly identify high-performing individuals who might be candidates for recognition or promotion.\n",
    "\n"
   ]
  },
  {
   "cell_type": "markdown",
   "id": "1ceae2c1",
   "metadata": {},
   "source": [
    "### Q5: Which department has the highest average performance ratin?"
   ]
  },
  {
   "cell_type": "markdown",
   "id": "69b59c2c",
   "metadata": {},
   "source": [
    "**Pandas Approach**"
   ]
  },
  {
   "cell_type": "code",
   "execution_count": null,
   "id": "3b630902",
   "metadata": {},
   "outputs": [],
   "source": [
    "\n",
    "avg_perf_by_dept = df.groupby('Department')['PerformanceRating'].mean().sort_values(ascending=False).reset_index()\n",
    "print(avg_perf_by_dept)\n"
   ]
  },
  {
   "cell_type": "markdown",
   "id": "ac609ab3",
   "metadata": {},
   "source": [
    "**SQL Approach**"
   ]
  },
  {
   "cell_type": "code",
   "execution_count": null,
   "id": "4ffbcb67",
   "metadata": {
    "vscode": {
     "languageId": "sql"
    }
   },
   "outputs": [],
   "source": [
    "SELECT\n",
    "    Department,\n",
    "    AVG(PerformanceRating) as AveragePerformanceRating\n",
    "FROM\n",
    "    employees\n",
    "GROUP BY\n",
    "    Department\n",
    "ORDER BY\n",
    "    AveragePerformanceRating DESC;\n"
   ]
  },
  {
   "cell_type": "code",
   "execution_count": null,
   "id": "a9a41e51",
   "metadata": {},
   "outputs": [],
   "source": [
    "\n",
    "result = sql_query(\"\"\"\n",
    "    SELECT Department, AVG(PerformanceRating) as AveragePerformanceRating\n",
    "    FROM employees\n",
    "    GROUP BY Department\n",
    "    ORDER BY AveragePerformanceRating DESC;\n",
    "\"\"\")\n",
    "print(result)"
   ]
  },
  {
   "cell_type": "markdown",
   "id": "f1fa7f54",
   "metadata": {},
   "source": [
    "**Insight**: While the differences are subtle, the Sales department has a slightly higher average performance rating."
   ]
  },
  {
   "cell_type": "markdown",
   "id": "b9a69191",
   "metadata": {},
   "source": [
    "### Additional Business Questions"
   ]
  },
  {
   "cell_type": "markdown",
   "id": "95d620a7",
   "metadata": {},
   "source": [
    "\n",
    "#### Q6: How does overtime affect attrition rates across different departments?\n"
   ]
  },
  {
   "cell_type": "markdown",
   "id": "ec85d423",
   "metadata": {},
   "source": [
    "**SQL Approach**: We can use a CASE statement to count attrition and calculate the rate"
   ]
  },
  {
   "cell_type": "code",
   "execution_count": null,
   "id": "b7036851",
   "metadata": {
    "vscode": {
     "languageId": "sql"
    }
   },
   "outputs": [],
   "source": [
    "SELECT\n",
    "    CASE\n",
    "        WHEN YearsAtCompany <= 2 THEN '0-2 Years'\n",
    "        WHEN YearsAtCompany <= 5 THEN '3-5 Years'\n",
    "        WHEN YearsAtCompany <= 10 THEN '6-10 Years'\n",
    "        ELSE '10+ Years'\n",
    "    END as TenureBucket,\n",
    "    JobSatisfaction,\n",
    "    ROUND( (SUM(CASE WHEN Attrition = 'Yes' THEN 1 ELSE 0 END) * 100.0) / COUNT(*), 2) as AttritionRate\n",
    "FROM\n",
    "    employees\n",
    "GROUP BY\n",
    "    TenureBucket, JobSatisfaction\n",
    "ORDER BY\n",
    "    TenureBucket, JobSatisfaction;\n"
   ]
  },
  {
   "cell_type": "code",
   "execution_count": null,
   "id": "4dbe63c7",
   "metadata": {},
   "outputs": [],
   "source": [
    "\n",
    "result = sql_query(\"\"\"\n",
    "    SELECT\n",
    "        CASE\n",
    "            WHEN YearsAtCompany <= 2 THEN '0-2 Years'\n",
    "            WHEN YearsAtCompany <= 5 THEN '3-5 Years'\n",
    "            WHEN YearsAtCompany <= 10 THEN '6-10 Years'\n",
    "            ELSE '10+ Years'\n",
    "        END as TenureBucket,\n",
    "        JobSatisfaction,\n",
    "        ROUND( (SUM(CASE WHEN Attrition = 'Yes' THEN 1 ELSE 0 END) * 100.0) / COUNT(*), 2) as AttritionRate\n",
    "    FROM\n",
    "        employees\n",
    "    GROUP BY\n",
    "        TenureBucket, JobSatisfaction\n",
    "    ORDER BY\n",
    "        TenureBucket, JobSatisfaction;\n",
    "\"\"\")\n",
    "print(result)\n"
   ]
  },
  {
   "cell_type": "markdown",
   "id": "5408d878",
   "metadata": {},
   "source": [
    "**Insight**: Attrition is highest among employees with low job satisfaction (level 1), especially within their first two years at the company (a staggering 44.5% attrition rate). As tenure increases, low job satisfaction becomes a less pronounced driver of attrition, though it remains a factor.\n"
   ]
  },
  {
   "cell_type": "markdown",
   "id": "90312f57",
   "metadata": {},
   "source": [
    "\n",
    "#### Q8: Is there a correlation between education level and promotion to a higher job level?\n"
   ]
  },
  {
   "cell_type": "markdown",
   "id": "3641821d",
   "metadata": {},
   "source": [
    "**SQL Approach**: We can analyze the average job level for each field of education."
   ]
  },
  {
   "cell_type": "code",
   "execution_count": null,
   "id": "7d0cdee1",
   "metadata": {
    "vscode": {
     "languageId": "sql"
    }
   },
   "outputs": [],
   "source": [
    "SELECT\n",
    "    EducationField,\n",
    "    ROUND(AVG(JobLevel), 2) as AverageJobLevel,\n",
    "    ROUND(AVG(MonthlyIncome), 2) as AverageMonthlyIncome\n",
    "FROM\n",
    "    employees\n",
    "GROUP BY\n",
    "    EducationField\n",
    "ORDER BY\n",
    "    AverageJobLevel DESC;\n"
   ]
  },
  {
   "cell_type": "code",
   "execution_count": null,
   "id": "5529bd03",
   "metadata": {},
   "outputs": [],
   "source": [
    "\n",
    "result = sql_query(\"\"\"\n",
    "    SELECT\n",
    "        EducationField,\n",
    "        ROUND(AVG(JobLevel), 2) as AverageJobLevel,\n",
    "        ROUND(AVG(MonthlyIncome), 2) as AverageMonthlyIncome\n",
    "    FROM\n",
    "        employees\n",
    "    GROUP BY\n",
    "        EducationField\n",
    "    ORDER BY\n",
    "        AverageJobLevel DESC;\n",
    "\"\"\")\n",
    "print(result)"
   ]
  },
  {
   "cell_type": "markdown",
   "id": "a32efc69",
   "metadata": {},
   "source": [
    "\n",
    "**Insight**: Employees with a background in *'Marketing'* and *'Life Sciences'* tend to reach slightly higher average job levels and incomes compared to other fields. *'Human Resources'* and *'Technical Degree'* fields have the lowest average job levels. This could inform recruitment and development strategies."
   ]
  }
 ],
 "metadata": {
  "language_info": {
   "name": "python"
  }
 },
 "nbformat": 4,
 "nbformat_minor": 5
}
